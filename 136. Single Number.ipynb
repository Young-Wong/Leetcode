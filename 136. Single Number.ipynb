{
 "cells": [
  {
   "cell_type": "markdown",
   "metadata": {},
   "source": [
    "Given a non-empty array of integers, every element appears twice except for one. Find that single one.\n",
    "\n",
    "Note:\n",
    "\n",
    "Your algorithm should have a linear runtime complexity. Could you implement it without using extra memory?\n",
    "\n",
    "Example 1:\n",
    "\n",
    "Input: [2,2,1]\n",
    "Output: 1\n",
    "Example 2:\n",
    "\n",
    "Input: [4,1,2,1,2]\n",
    "Output: 4"
   ]
  },
  {
   "cell_type": "markdown",
   "metadata": {},
   "source": [
    "### 1. hash table"
   ]
  },
  {
   "cell_type": "code",
   "execution_count": null,
   "metadata": {
    "collapsed": true
   },
   "outputs": [],
   "source": [
    "from collections import defaultdict\n",
    "class Solution:\n",
    "    def singleNumber(self, nums: List[int]) -> int:\n",
    "        hash_table = defaultdict(int)\n",
    "        for i in nums:\n",
    "            hash_table[i] +=1\n",
    "        for i in hash_table:\n",
    "            if hash_table[i] ==1:\n",
    "                return i"
   ]
  },
  {
   "cell_type": "markdown",
   "metadata": {},
   "source": [
    "### 2.位操作\n",
    "这道题目利用位操作。位操作的异或（^)，他的其中一个属性是，n^n = 0, 0^n = n。只要将所有的数都进行异或就得到出现一次的数。"
   ]
  },
  {
   "cell_type": "code",
   "execution_count": null,
   "metadata": {
    "collapsed": true
   },
   "outputs": [],
   "source": [
    "class Solution(object):\n",
    "    def singleNumber(self, nums):\n",
    "        \"\"\"\n",
    "        :type nums: List[int]\n",
    "        :rtype: int\n",
    "        \"\"\"\n",
    "        ans = 0\n",
    "        for i in nums:\n",
    "            ans ^= i\n",
    "        return ans"
   ]
  }
 ],
 "metadata": {
  "kernelspec": {
   "display_name": "Python 3",
   "language": "python",
   "name": "python3"
  },
  "language_info": {
   "codemirror_mode": {
    "name": "ipython",
    "version": 3
   },
   "file_extension": ".py",
   "mimetype": "text/x-python",
   "name": "python",
   "nbconvert_exporter": "python",
   "pygments_lexer": "ipython3",
   "version": "3.6.3"
  }
 },
 "nbformat": 4,
 "nbformat_minor": 2
}
